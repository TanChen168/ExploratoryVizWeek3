{
  "nbformat": 4,
  "nbformat_minor": 0,
  "metadata": {
    "colab": {
      "name": "AverageHeight.ipynb",
      "provenance": [],
      "collapsed_sections": [],
      "authorship_tag": "ABX9TyMMhNWG0yq6WeuMeHKUaZRn",
      "include_colab_link": true
    },
    "kernelspec": {
      "name": "python3",
      "display_name": "Python 3"
    },
    "language_info": {
      "name": "python"
    }
  },
  "cells": [
    {
      "cell_type": "markdown",
      "metadata": {
        "id": "view-in-github",
        "colab_type": "text"
      },
      "source": [
        "<a href=\"https://colab.research.google.com/github/TanChen168/ExploratoryVizWeek3/blob/main/AverageHeight.ipynb\" target=\"_parent\"><img src=\"https://colab.research.google.com/assets/colab-badge.svg\" alt=\"Open In Colab\"/></a>"
      ]
    },
    {
      "cell_type": "code",
      "metadata": {
        "colab": {
          "base_uri": "https://localhost:8080/",
          "height": 419
        },
        "id": "ePCzjgsebJF0",
        "outputId": "88bf6245-ea33-403b-d7ef-de769f17831c"
      },
      "source": [
        "import pandas as pd\n",
        "\n",
        "filename = '/content/sample_data/athleteEventsNoPersonal.csv'\n",
        "\n",
        "df = pd.read_csv(filename)\n",
        "df\n"
      ],
      "execution_count": 22,
      "outputs": [
        {
          "output_type": "execute_result",
          "data": {
            "text/html": [
              "<div>\n",
              "<style scoped>\n",
              "    .dataframe tbody tr th:only-of-type {\n",
              "        vertical-align: middle;\n",
              "    }\n",
              "\n",
              "    .dataframe tbody tr th {\n",
              "        vertical-align: top;\n",
              "    }\n",
              "\n",
              "    .dataframe thead th {\n",
              "        text-align: right;\n",
              "    }\n",
              "</style>\n",
              "<table border=\"1\" class=\"dataframe\">\n",
              "  <thead>\n",
              "    <tr style=\"text-align: right;\">\n",
              "      <th></th>\n",
              "      <th>ID</th>\n",
              "      <th>Age</th>\n",
              "      <th>Height</th>\n",
              "      <th>Team</th>\n",
              "      <th>NOC</th>\n",
              "      <th>Games</th>\n",
              "      <th>Year</th>\n",
              "      <th>Season</th>\n",
              "      <th>City</th>\n",
              "      <th>Sport</th>\n",
              "      <th>Event</th>\n",
              "      <th>Medal</th>\n",
              "    </tr>\n",
              "  </thead>\n",
              "  <tbody>\n",
              "    <tr>\n",
              "      <th>0</th>\n",
              "      <td>5</td>\n",
              "      <td>21.0</td>\n",
              "      <td>185.0</td>\n",
              "      <td>Netherlands</td>\n",
              "      <td>NED</td>\n",
              "      <td>1988 Winter</td>\n",
              "      <td>1988</td>\n",
              "      <td>Winter</td>\n",
              "      <td>Calgary</td>\n",
              "      <td>Speed Skating</td>\n",
              "      <td>Speed Skating Women's 500 metres</td>\n",
              "      <td>NaN</td>\n",
              "    </tr>\n",
              "    <tr>\n",
              "      <th>1</th>\n",
              "      <td>5</td>\n",
              "      <td>21.0</td>\n",
              "      <td>185.0</td>\n",
              "      <td>Netherlands</td>\n",
              "      <td>NED</td>\n",
              "      <td>1988 Winter</td>\n",
              "      <td>1988</td>\n",
              "      <td>Winter</td>\n",
              "      <td>Calgary</td>\n",
              "      <td>Speed Skating</td>\n",
              "      <td>Speed Skating Women's 1,000 metres</td>\n",
              "      <td>NaN</td>\n",
              "    </tr>\n",
              "    <tr>\n",
              "      <th>2</th>\n",
              "      <td>5</td>\n",
              "      <td>25.0</td>\n",
              "      <td>185.0</td>\n",
              "      <td>Netherlands</td>\n",
              "      <td>NED</td>\n",
              "      <td>1992 Winter</td>\n",
              "      <td>1992</td>\n",
              "      <td>Winter</td>\n",
              "      <td>Albertville</td>\n",
              "      <td>Speed Skating</td>\n",
              "      <td>Speed Skating Women's 500 metres</td>\n",
              "      <td>NaN</td>\n",
              "    </tr>\n",
              "    <tr>\n",
              "      <th>3</th>\n",
              "      <td>5</td>\n",
              "      <td>25.0</td>\n",
              "      <td>185.0</td>\n",
              "      <td>Netherlands</td>\n",
              "      <td>NED</td>\n",
              "      <td>1992 Winter</td>\n",
              "      <td>1992</td>\n",
              "      <td>Winter</td>\n",
              "      <td>Albertville</td>\n",
              "      <td>Speed Skating</td>\n",
              "      <td>Speed Skating Women's 1,000 metres</td>\n",
              "      <td>NaN</td>\n",
              "    </tr>\n",
              "    <tr>\n",
              "      <th>4</th>\n",
              "      <td>5</td>\n",
              "      <td>27.0</td>\n",
              "      <td>185.0</td>\n",
              "      <td>Netherlands</td>\n",
              "      <td>NED</td>\n",
              "      <td>1994 Winter</td>\n",
              "      <td>1994</td>\n",
              "      <td>Winter</td>\n",
              "      <td>Lillehammer</td>\n",
              "      <td>Speed Skating</td>\n",
              "      <td>Speed Skating Women's 500 metres</td>\n",
              "      <td>NaN</td>\n",
              "    </tr>\n",
              "    <tr>\n",
              "      <th>...</th>\n",
              "      <td>...</td>\n",
              "      <td>...</td>\n",
              "      <td>...</td>\n",
              "      <td>...</td>\n",
              "      <td>...</td>\n",
              "      <td>...</td>\n",
              "      <td>...</td>\n",
              "      <td>...</td>\n",
              "      <td>...</td>\n",
              "      <td>...</td>\n",
              "      <td>...</td>\n",
              "      <td>...</td>\n",
              "    </tr>\n",
              "    <tr>\n",
              "      <th>40611</th>\n",
              "      <td>135567</td>\n",
              "      <td>28.0</td>\n",
              "      <td>183.0</td>\n",
              "      <td>Russia</td>\n",
              "      <td>RUS</td>\n",
              "      <td>2004 Summer</td>\n",
              "      <td>2004</td>\n",
              "      <td>Summer</td>\n",
              "      <td>Athina</td>\n",
              "      <td>Rowing</td>\n",
              "      <td>Rowing Men's Lightweight Coxless Fours</td>\n",
              "      <td>NaN</td>\n",
              "    </tr>\n",
              "    <tr>\n",
              "      <th>40612</th>\n",
              "      <td>135570</td>\n",
              "      <td>27.0</td>\n",
              "      <td>176.0</td>\n",
              "      <td>Poland</td>\n",
              "      <td>POL</td>\n",
              "      <td>2014 Winter</td>\n",
              "      <td>2014</td>\n",
              "      <td>Winter</td>\n",
              "      <td>Sochi</td>\n",
              "      <td>Ski Jumping</td>\n",
              "      <td>Ski Jumping Men's Large Hill, Individual</td>\n",
              "      <td>NaN</td>\n",
              "    </tr>\n",
              "    <tr>\n",
              "      <th>40613</th>\n",
              "      <td>135570</td>\n",
              "      <td>27.0</td>\n",
              "      <td>176.0</td>\n",
              "      <td>Poland</td>\n",
              "      <td>POL</td>\n",
              "      <td>2014 Winter</td>\n",
              "      <td>2014</td>\n",
              "      <td>Winter</td>\n",
              "      <td>Sochi</td>\n",
              "      <td>Ski Jumping</td>\n",
              "      <td>Ski Jumping Men's Large Hill, Team</td>\n",
              "      <td>NaN</td>\n",
              "    </tr>\n",
              "    <tr>\n",
              "      <th>40614</th>\n",
              "      <td>135571</td>\n",
              "      <td>30.0</td>\n",
              "      <td>185.0</td>\n",
              "      <td>Poland</td>\n",
              "      <td>POL</td>\n",
              "      <td>1998 Winter</td>\n",
              "      <td>1998</td>\n",
              "      <td>Winter</td>\n",
              "      <td>Nagano</td>\n",
              "      <td>Bobsleigh</td>\n",
              "      <td>Bobsleigh Men's Four</td>\n",
              "      <td>NaN</td>\n",
              "    </tr>\n",
              "    <tr>\n",
              "      <th>40615</th>\n",
              "      <td>135571</td>\n",
              "      <td>34.0</td>\n",
              "      <td>185.0</td>\n",
              "      <td>Poland</td>\n",
              "      <td>POL</td>\n",
              "      <td>2002 Winter</td>\n",
              "      <td>2002</td>\n",
              "      <td>Winter</td>\n",
              "      <td>Salt Lake City</td>\n",
              "      <td>Bobsleigh</td>\n",
              "      <td>Bobsleigh Men's Four</td>\n",
              "      <td>NaN</td>\n",
              "    </tr>\n",
              "  </tbody>\n",
              "</table>\n",
              "<p>40616 rows × 12 columns</p>\n",
              "</div>"
            ],
            "text/plain": [
              "           ID   Age  ...                                     Event Medal\n",
              "0           5  21.0  ...          Speed Skating Women's 500 metres   NaN\n",
              "1           5  21.0  ...        Speed Skating Women's 1,000 metres   NaN\n",
              "2           5  25.0  ...          Speed Skating Women's 500 metres   NaN\n",
              "3           5  25.0  ...        Speed Skating Women's 1,000 metres   NaN\n",
              "4           5  27.0  ...          Speed Skating Women's 500 metres   NaN\n",
              "...       ...   ...  ...                                       ...   ...\n",
              "40611  135567  28.0  ...    Rowing Men's Lightweight Coxless Fours   NaN\n",
              "40612  135570  27.0  ...  Ski Jumping Men's Large Hill, Individual   NaN\n",
              "40613  135570  27.0  ...        Ski Jumping Men's Large Hill, Team   NaN\n",
              "40614  135571  30.0  ...                      Bobsleigh Men's Four   NaN\n",
              "40615  135571  34.0  ...                      Bobsleigh Men's Four   NaN\n",
              "\n",
              "[40616 rows x 12 columns]"
            ]
          },
          "metadata": {},
          "execution_count": 22
        }
      ]
    },
    {
      "cell_type": "markdown",
      "metadata": {
        "id": "gxpxGJFfb1-R"
      },
      "source": [
        "1.a How many rows? - 40616\n"
      ]
    },
    {
      "cell_type": "markdown",
      "metadata": {
        "id": "6yFHTg4vcIDE"
      },
      "source": [
        "1.b How many columns? - 12\n"
      ]
    },
    {
      "cell_type": "markdown",
      "metadata": {
        "id": "DcMKXg_mcJut"
      },
      "source": [
        "1.c Which columns have missing values? - Age, Height, Medal got missing values. Atheletes may not win medals in all events that's why it has missing values."
      ]
    },
    {
      "cell_type": "code",
      "metadata": {
        "colab": {
          "base_uri": "https://localhost:8080/"
        },
        "id": "CJRkStmEbfDn",
        "outputId": "11d93d8c-f154-49ac-aeaf-0a7c46799d6f"
      },
      "source": [
        "df.info()\n",
        "df.isna().sum()"
      ],
      "execution_count": 21,
      "outputs": [
        {
          "output_type": "stream",
          "name": "stdout",
          "text": [
            "<class 'pandas.core.frame.DataFrame'>\n",
            "RangeIndex: 40616 entries, 0 to 40615\n",
            "Data columns (total 12 columns):\n",
            " #   Column  Non-Null Count  Dtype  \n",
            "---  ------  --------------  -----  \n",
            " 0   ID      40616 non-null  int64  \n",
            " 1   Age     39143 non-null  float64\n",
            " 2   Height  31615 non-null  float64\n",
            " 3   Team    40616 non-null  object \n",
            " 4   NOC     40616 non-null  object \n",
            " 5   Games   40616 non-null  object \n",
            " 6   Year    40616 non-null  int64  \n",
            " 7   Season  40616 non-null  object \n",
            " 8   City    40616 non-null  object \n",
            " 9   Sport   40616 non-null  object \n",
            " 10  Event   40616 non-null  object \n",
            " 11  Medal   5917 non-null   object \n",
            "dtypes: float64(2), int64(2), object(8)\n",
            "memory usage: 3.7+ MB\n"
          ]
        },
        {
          "output_type": "execute_result",
          "data": {
            "text/plain": [
              "ID            0\n",
              "Age        1473\n",
              "Height     9001\n",
              "Team          0\n",
              "NOC           0\n",
              "Games         0\n",
              "Year          0\n",
              "Season        0\n",
              "City          0\n",
              "Sport         0\n",
              "Event         0\n",
              "Medal     34699\n",
              "dtype: int64"
            ]
          },
          "metadata": {},
          "execution_count": 21
        }
      ]
    },
    {
      "cell_type": "markdown",
      "metadata": {
        "id": "1D3S77BPcpAm"
      },
      "source": [
        "1.d. How many entries correspond to the city of London? - 3370 entries"
      ]
    },
    {
      "cell_type": "code",
      "metadata": {
        "colab": {
          "base_uri": "https://localhost:8080/"
        },
        "id": "DhM8HScncGeg",
        "outputId": "76212b0c-95f4-4010-fd48-adfec9a66d9a"
      },
      "source": [
        "city = df.loc[df['City'] == 'London', :]\n",
        "len(city)"
      ],
      "execution_count": 30,
      "outputs": [
        {
          "output_type": "execute_result",
          "data": {
            "text/plain": [
              "3370"
            ]
          },
          "metadata": {},
          "execution_count": 30
        }
      ]
    },
    {
      "cell_type": "markdown",
      "metadata": {
        "id": "e7tXvbDDdBHg"
      },
      "source": [
        "1.e. What age is the youngest athlete in our sample data? - 11"
      ]
    },
    {
      "cell_type": "code",
      "metadata": {
        "colab": {
          "base_uri": "https://localhost:8080/"
        },
        "id": "JeVuvczSc5M6",
        "outputId": "19fac9f5-e8b3-4ccb-fa66-3552cb81dabd"
      },
      "source": [
        "age = df['Age'].min()\n",
        "age"
      ],
      "execution_count": null,
      "outputs": [
        {
          "output_type": "execute_result",
          "data": {
            "text/plain": [
              "11.0"
            ]
          },
          "metadata": {},
          "execution_count": 5
        }
      ]
    },
    {
      "cell_type": "markdown",
      "metadata": {
        "id": "O3fjXvD4dQwk"
      },
      "source": [
        "2.a. How many athletes who participated in the Sport \"Tug-Of-War\" were from Team \"Sweden\" in our sample dataset? - 6"
      ]
    },
    {
      "cell_type": "code",
      "metadata": {
        "colab": {
          "base_uri": "https://localhost:8080/"
        },
        "id": "N2G6Rj5WdHXR",
        "outputId": "edf4debd-3c4c-4356-9903-60770258ebab"
      },
      "source": [
        "City_filter = df['Team'] == 'Sweden'\n",
        "Event_filter = df['Sport']=='Tug-Of-War'\n",
        "Sweden_ToF = df.loc[City_filter & Event_filter, :]\n",
        "len(Sweden_ToF)"
      ],
      "execution_count": 32,
      "outputs": [
        {
          "output_type": "execute_result",
          "data": {
            "text/plain": [
              "6"
            ]
          },
          "metadata": {},
          "execution_count": 32
        }
      ]
    },
    {
      "cell_type": "markdown",
      "metadata": {
        "id": "njybRjkMf-vd"
      },
      "source": [
        "2.b. How many Gold medals were awarded to athletes who were over 40 years old? - 66 gold medals"
      ]
    },
    {
      "cell_type": "code",
      "metadata": {
        "colab": {
          "base_uri": "https://localhost:8080/"
        },
        "id": "QyqSEYqsdtmP",
        "outputId": "aacf358c-4415-4dff-94eb-62d7afaccd27"
      },
      "source": [
        "gold_filter = df['Medal'] == 'Gold'\n",
        "yo40_filter = df['Age'] > 40\n",
        "Gold40yo = df.loc[gold_filter & yo40_filter, :]\n",
        "len(Gold40yo)"
      ],
      "execution_count": 33,
      "outputs": [
        {
          "output_type": "execute_result",
          "data": {
            "text/plain": [
              "66"
            ]
          },
          "metadata": {},
          "execution_count": 33
        }
      ]
    },
    {
      "cell_type": "markdown",
      "metadata": {
        "id": "OgtlPQFPglgL"
      },
      "source": [
        "3. Determine the average height of:\n",
        "     a. All rows included - 175.38"
      ]
    },
    {
      "cell_type": "code",
      "metadata": {
        "colab": {
          "base_uri": "https://localhost:8080/"
        },
        "id": "Ddwu1r_Ve6jR",
        "outputId": "0378a3b8-fd4b-4c97-ddc2-f418e0a2089c"
      },
      "source": [
        "round(df['Height'].mean(), 2)"
      ],
      "execution_count": 34,
      "outputs": [
        {
          "output_type": "execute_result",
          "data": {
            "text/plain": [
              "175.38"
            ]
          },
          "metadata": {},
          "execution_count": 34
        }
      ]
    },
    {
      "cell_type": "markdown",
      "metadata": {
        "id": "UYeCpGkegn-7"
      },
      "source": [
        "3. Determine the average height of:\n",
        "     b. All rows included, but grouped by Event"
      ]
    },
    {
      "cell_type": "code",
      "metadata": {
        "colab": {
          "base_uri": "https://localhost:8080/"
        },
        "id": "bXpa-fLag4Gc",
        "outputId": "e1021d91-f05a-422d-da0d-8b3339c27d05"
      },
      "source": [
        "height = df.groupby(['Event'])['Height'].mean()\n",
        "height\n"
      ],
      "execution_count": 38,
      "outputs": [
        {
          "output_type": "execute_result",
          "data": {
            "text/plain": [
              "Event\n",
              "Alpine Skiing Men's Combined                      178.547170\n",
              "Alpine Skiing Men's Downhill                      178.211679\n",
              "Alpine Skiing Men's Giant Slalom                  176.739394\n",
              "Alpine Skiing Men's Slalom                        176.482143\n",
              "Alpine Skiing Men's Super G                       179.850575\n",
              "                                                     ...    \n",
              "Wrestling Women's Flyweight, Freestyle            158.100000\n",
              "Wrestling Women's Heavyweight, Freestyle          173.444444\n",
              "Wrestling Women's Light-Heavyweight, Freestyle    170.000000\n",
              "Wrestling Women's Lightweight, Freestyle          162.666667\n",
              "Wrestling Women's Middleweight, Freestyle         164.533333\n",
              "Name: Height, Length: 726, dtype: float64"
            ]
          },
          "metadata": {},
          "execution_count": 38
        }
      ]
    },
    {
      "cell_type": "markdown",
      "metadata": {
        "id": "CHAg_PCijIcU"
      },
      "source": [
        "3.c. Bonus - Drop duplicate athlete and get the height"
      ]
    },
    {
      "cell_type": "code",
      "metadata": {
        "colab": {
          "base_uri": "https://localhost:8080/"
        },
        "id": "V8DbPVEjhL2h",
        "outputId": "781c33d0-09dc-40b8-f6e1-4e79d7d66400"
      },
      "source": [
        "df.value_counts('ID')\n",
        "one_per_athlete = df.drop_duplicates(subset = 'ID', keep = 'first')\n",
        "one_per_athlete.groupby(['Event'])['Height'].mean()"
      ],
      "execution_count": 39,
      "outputs": [
        {
          "output_type": "execute_result",
          "data": {
            "text/plain": [
              "Event\n",
              "Alpine Skiing Men's Combined                      178.800000\n",
              "Alpine Skiing Men's Downhill                      178.177215\n",
              "Alpine Skiing Men's Giant Slalom                  176.379310\n",
              "Alpine Skiing Men's Slalom                        175.583333\n",
              "Alpine Skiing Men's Super G                       178.933333\n",
              "                                                     ...    \n",
              "Wrestling Women's Flyweight, Freestyle            158.000000\n",
              "Wrestling Women's Heavyweight, Freestyle          172.000000\n",
              "Wrestling Women's Light-Heavyweight, Freestyle    170.000000\n",
              "Wrestling Women's Lightweight, Freestyle          161.700000\n",
              "Wrestling Women's Middleweight, Freestyle         165.100000\n",
              "Name: Height, Length: 609, dtype: float64"
            ]
          },
          "metadata": {},
          "execution_count": 39
        }
      ]
    },
    {
      "cell_type": "code",
      "metadata": {
        "id": "5eG5WL_3izQw"
      },
      "source": [
        ""
      ],
      "execution_count": null,
      "outputs": []
    }
  ]
}